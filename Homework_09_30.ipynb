{
 "cells": [
  {
   "cell_type": "markdown",
   "metadata": {
    "id": "pKIiY6p3GRFq"
   },
   "source": [
    "# Definitions"
   ]
  },
  {
   "cell_type": "markdown",
   "metadata": {
    "id": "x7VmLUr5GTNw"
   },
   "source": [
    "Correlation is a measure of association between measured (random) variables. The Pearson's correlation coefficient quantifies the strength of this association on a simple scale: it varies between -1 and 1. The larger the absolute value of this correlation coefficient, the tighter the correlation and more predictive it is. The smaller the absolute value, the weaker the correlation and less predictive. Positive values imply a positive correlation: as I eat more ice cream, my weight goes up. Negative values imply a negative correlation: as I eat more ice cream, my weight goes down (wouldn't that be great!). \n",
    "\n",
    "The Pearson's correlation coefficient is called parametric because it assumes a parametric form of the distributions of the two random variables, $X$ and $Y$; specifically, that both variables are [normally distributed](https://colab.research.google.com/drive/1-KxH3FCq5rDyyO33HXxewIv-kKldkINi?usp=sharing)."
   ]
  },
  {
   "cell_type": "markdown",
   "metadata": {
    "id": "IyCyVIIDH0rb"
   },
   "source": [
    "# Computing for a population"
   ]
  },
  {
   "cell_type": "markdown",
   "metadata": {
    "id": "sYDtxlCZH5BC"
   },
   "source": [
    "When you have full knowledge of the joint distribution of $𝑋$ and $Y$ (e.g., when working with an idealized model, not with real, finite data sets), the Pearson's correlation coefficient is typically denoted as $\\rho$ and computed in terms of the covariance between the two variables, normalized by the product of their individual standard deviations:\n",
    "\n",
    "$\\quad\\rho_{X,Y}=\\frac{cov(X,Y)}{\\sigma_x\\sigma_y}$\n",
    "\n",
    "where\n",
    "\n",
    "$\\quad cov(X,Y)=E\\left [ (X-\\mu_X)(Y-\\mu_Y)\\right ]$\n",
    "\n",
    "in which $\\mu_X$ and $\\mu_Y$ are the means of $X$ and $Y$, respectively, and $E\\left[\\right]$ denotes expected value."
   ]
  },
  {
   "cell_type": "markdown",
   "metadata": {
    "id": "xDpz-ktIJGhf"
   },
   "source": [
    "# Computing for a sample"
   ]
  },
  {
   "cell_type": "markdown",
   "metadata": {
    "id": "c-qA27fbJM6k"
   },
   "source": [
    "When working with real data, you have a [sample, not a population](https://colab.research.google.com/drive/1SnVM1MPaFvMSjlDLyihgeZ25OAk-k4Nk?usp=sharing), and thus need to compute the correlation coefficient (typically denoted as *r*) using sample statistics."
   ]
  },
  {
   "cell_type": "markdown",
   "metadata": {
    "id": "9LJSqIDXJZ4f"
   },
   "source": [
    "## Sample Pearson's correlation coefficient"
   ]
  },
  {
   "cell_type": "markdown",
   "metadata": {
    "id": "Ytr0p-0MJcld"
   },
   "source": [
    "$\\quad r_{X,Y}=\\frac{\\sum^n_{i-1}{(x_i-\\bar{x})(y_i-\\bar{y})}}{\\sqrt{\\sum^n_{i-1}{(x_i-\\bar{x})^2}}\\sqrt{\\sum^n_{i-1}{(y_i-\\bar{y})^2}}}$\n",
    "\n",
    "where\n",
    "\n",
    "$\\quad \\bar{x}=\\frac{1}{n}\\sum^n_{i=1}{x_i,\\bar{y}}=\\frac{1}{n}\\sum^n_{i=1}{y_i}$\n",
    "\n",
    "are the sample means."
   ]
  },
  {
   "cell_type": "markdown",
   "metadata": {
    "id": "F2at-qokKj34"
   },
   "source": [
    "## Coefficient of determination"
   ]
  },
  {
   "cell_type": "markdown",
   "metadata": {
    "id": "KHOpKncgKoJP"
   },
   "source": [
    "It is possible to compute $r_{X,Y}$ not just when $X$ and $Y$ are two random variables, but also when one is a random (dependent) variable (typically $Y$) and the other is an independent or explanatory variable (typically $X$). In this case, the square of the correlation coefficient ($r^2$) quantifies the total variation in one variable ($Y$) that is explained by the regression line with respect to the other variable ($X$). This quantity is called the **coefficient of determination** and is often referred to as the fraction of explained variance"
   ]
  },
  {
   "cell_type": "markdown",
   "metadata": {
    "id": "dRpX2JmfLAo7"
   },
   "source": [
    "## Standard error of the sample Pearson's correlation coefficient"
   ]
  },
  {
   "cell_type": "markdown",
   "metadata": {
    "id": "WAWhhqGfLDrG"
   },
   "source": [
    "The standard error of the sample *r* is computed by assuming that r follows a [Student's t distribution](https://colab.research.google.com/drive/1Q_Du5NK71Rc1qu-byh8dy8Fs39uvR_4n?usp=sharing) with two degrees of freedom (because of the two variables):\n",
    "\n",
    "$\\quad s_r=\\sqrt{\\frac{1-r^2}{n-2}}$\n",
    "\n",
    "Note that \"standard error\" refers in general to the standard deviation of a statistical estimate, which here is *r*. It is not the same thing as the \"standard error of the mean\", which refers to the standard deviation of a statistical estimate of a mean."
   ]
  },
  {
   "cell_type": "markdown",
   "metadata": {
    "id": "4yGAhXVULi3C"
   },
   "source": [
    "## Confidence intervals for the sample Pearson's correlation coefficient"
   ]
  },
  {
   "cell_type": "markdown",
   "metadata": {
    "id": "-YIP1v0vLla_"
   },
   "source": [
    "This is a bit tricker to compute, because r is not normally distributed, particularly around the extreme values (e.g., around 1, the distribution cannot go higher than one but can take many values <1). We therefore need to do the following (a good explanation is [here](http://faculty.washington.edu/gloftus/P317-318/Useful_Information/r_to_z/PearsonrCIs.pdf)):\n",
    "\n",
    "1\\. Take the Fisher's z-transformation of r:\n",
    "\n",
    "$\\quad z=0.5\\times ln(\\frac{1+r}{1-r})$\n",
    "\n",
    "2\\. Compute its standard deviation as:\n",
    "\n",
    "$\\quad s_z=\\sqrt{\\frac{1}{n-3}}$\n",
    "\n",
    "3\\. Compute confidence intervals in this z-space as we have shown [here](https://colab.research.google.com/drive/1rdJMusMZDTaM9OGsyt27tCVkSasmRj2O?usp=sharing), as: \n",
    "\n",
    "$\\quad z \\pm (z\\:criterion) \\times s_z$\n",
    "\n",
    "where the *z* criterion is determined from the desired confidence value using a [z-score calculator](http://www.z-table.com) or [norminv](https://www.mathworks.com/help/stats/norminv.html) in Matlab.\n",
    "\n",
    "4\\. Then translate each *z* value back to *r* as:\n",
    "\n",
    "$\\quad r=\\frac{e^{2z}-1}{e^{2z}+1}$\n"
   ]
  },
  {
   "cell_type": "markdown",
   "metadata": {
    "id": "ELEb_vqYQGdK"
   },
   "source": [
    "## Hypothesis testing on the sample Pearson's correlation coefficient"
   ]
  },
  {
   "cell_type": "markdown",
   "metadata": {
    "id": "5VSSh3pMQIJf"
   },
   "source": [
    "For $H_0: r=0$. Here we are considering a null distribution that is centered at *r*=0. In this case, we know that the distribution of *r* around that mean is symmetric, and the sample mean follows follows a [Student's *t* distribution](https://colab.research.google.com/drive/1Q_Du5NK71Rc1qu-byh8dy8Fs39uvR_4n?usp=sharing).  Therefore, our test statistic is simply the *t* statistic, which we compute as the residual (with respect to zero) of *r* divided by its standard error:\n",
    "\n",
    "$\\quad t=\\frac{r}{s_r}$\n",
    "\n",
    "with $n-2$ degrees of freedom.\n",
    "\n",
    "For $H_0: r=r_s,\\:where\\:r_s\\ne 0$. Here we are considering null distributions that are not centered at $r=0$ and therefore are not symmetric and do not follow a *t* distribution. We therefore first compute the *z* transformation of $r$ and $r_s$, as above. Now our test statistic is:\n",
    "\n",
    "$\\quad \\lambda =\\frac{z_r-z_{rs}}{\\sqrt{\\frac{1}{n-3}}}$\n",
    "\n",
    "with $n-2$ degrees of freedom.\n",
    "\n"
   ]
  },
  {
   "cell_type": "markdown",
   "metadata": {
    "id": "nvmWeSSHSF95"
   },
   "source": [
    "# Exercises"
   ]
  },
  {
   "cell_type": "code",
   "execution_count": 52,
   "metadata": {},
   "outputs": [],
   "source": [
    "import numpy as np\n",
    "import matplotlib.pyplot as plt\n",
    "import scipy.stats as st\n",
    "import math\n",
    "from statsmodels.stats.power import TTestIndPower"
   ]
  },
  {
   "cell_type": "markdown",
   "metadata": {
    "id": "bki88QRVSaj8"
   },
   "source": [
    "Let's examine the relationship between these two measured variables:\n",
    "\n",
    "Wing length | Tail length\n",
    "--- | ---\n",
    "10.4 | 7.4\n",
    "10.8 | 7.6\n",
    "11.1 | 7.9\n",
    "10.2 | 7.2\n",
    "10.3 | 7.4\n",
    "10.2 | 7.1\n",
    "10.7 | 7.4\n",
    "10.5 | 7.2\n",
    "10.8 | 7.8\n",
    "11.2 | 7.7\n",
    "10.6 | 7.8\n",
    "11.4 | 8.3\n",
    "\n",
    "Assume Wing length is the $X$ variable and Tail Length is the $Y$ variable, both measured in cm.\n",
    "\n",
    "Answers to the questions below will be found [here](https://github.com/PennNGG/Quantitative-Neuroscience/tree/master/Answers%20to%20Exercises/Python) after the due date."
   ]
  },
  {
   "cell_type": "markdown",
   "metadata": {
    "id": "zIfgeegzTlJl"
   },
   "source": [
    "##### 1\\. Plot X vs Y. Do they look related?"
   ]
  },
  {
   "cell_type": "code",
   "execution_count": 4,
   "metadata": {},
   "outputs": [
    {
     "data": {
      "image/png": "[encoded data removed]",
      "text/plain": [
       "<Figure size 432x288 with 1 Axes>"
      ]
     },
     "metadata": {
      "needs_background": "light"
     },
     "output_type": "display_data"
    }
   ],
   "source": [
    "# define data\n",
    "wing_length = [10.4, 10.8, 11.1, 10.2, 10.3, 10.2, 10.7, 10.5, 10.8, 11.2, 10.6, 11.4]\n",
    "tail_length = [ 7.4, 7.6, 7.9, 7.2, 7.4, 7.1, 7.4, 7.2, 7.8, 7.7, 7.8, 8.3]\n",
    "\n",
    "# plot relationship of wing and tail length\n",
    "plt.plot(wing_length, tail_length, 'ko')\n",
    "plt.xlabel('Wing length')\n",
    "plt.ylabel('Tail length')\n",
    "plt.show()\n"
   ]
  },
  {
   "cell_type": "markdown",
   "metadata": {},
   "source": [
    "Yes, tail and wing lengths seem positively correlated."
   ]
  },
  {
   "cell_type": "markdown",
   "metadata": {
    "id": "v4ihoOv0TzTk"
   },
   "source": [
    "##### 2\\. Calculate $r_{X,Y}$ and $r_{Y,X}$, first using the equations above and then using either the Python numpy funciton [corrcoef](https://numpy.org/doc/stable/reference/generated/numpy.corrcoef.html) or Matlab's built-in [corrcoef](https://www.mathworks.com/help/matlab/ref/corrcoef.html). Did you get the same answers?"
   ]
  },
  {
   "cell_type": "code",
   "execution_count": 32,
   "metadata": {},
   "outputs": [
    {
     "name": "stdout",
     "output_type": "stream",
     "text": [
      "Manually computed r = 0.8703545613058226\n",
      "Python computed r = 0.8703545613058227\n"
     ]
    }
   ],
   "source": [
    "# manually compute r\n",
    "n = len(tail_length)\n",
    "\n",
    "# first compute means\n",
    "mean_wing = np.mean(wing_length)\n",
    "mean_tail = np.mean(tail_length)\n",
    "\n",
    "# compute value - mean\n",
    "wing_minus_avg = [x - mean_wing for x in wing_length]\n",
    "tail_minus_avg = [x - mean_tail for x in tail_length]\n",
    "\n",
    "# # wing_minus_avg * tail_minus_avg\n",
    "wing_tail = np.multiply(wing_minus_avg, tail_minus_avg)\n",
    "\n",
    "# # value - mean squared\n",
    "wing_minus_avg_squared = [x**2 for x in wing_minus_avg]\n",
    "tail_minus_avg_squared = [x**2 for x in tail_minus_avg]\n",
    "\n",
    "# denominator\n",
    "denom = math.sqrt(sum(wing_minus_avg_squared) * sum(tail_minus_avg_squared))\n",
    "\n",
    "r = sum(wing_tail) / denom\n",
    "\n",
    "print(f'Manually computed r = {r}')\n",
    "\n",
    "# python function\n",
    "r_python = np.corrcoef(wing_length, tail_length)[1,0]\n",
    "\n",
    "print(f'Python computed r = {r_python}')\n",
    "\n"
   ]
  },
  {
   "cell_type": "markdown",
   "metadata": {},
   "source": [
    "Yes, the answers are the same."
   ]
  },
  {
   "cell_type": "markdown",
   "metadata": {
    "id": "XqoZSFdZU5zg"
   },
   "source": [
    "##### 3\\. What is the standard error of $r_{X,Y}$? The 95% confidence intervals computed from the standard error?"
   ]
  },
  {
   "cell_type": "code",
   "execution_count": 45,
   "metadata": {},
   "outputs": [
    {
     "name": "stdout",
     "output_type": "stream",
     "text": [
      "Standard error of the correlation = 0.11386195092926228\n",
      "Confidence intervals = [1.0178733169204675, 1.6512066502538008]\n"
     ]
    }
   ],
   "source": [
    "# standard error\n",
    "SE = math.sqrt((1 - r_python) / (n - 2))\n",
    "print(f'Standard error of the correlation = {SE}')\n",
    "\n",
    "# confidence interval\n",
    "z = 0.5 * np.log((1 + r_python) / (1 - r_python)) # convert r to z-score\n",
    "z_sd = math.sqrt(1 / (n-3))\n",
    "z_criterion = 0.95\n",
    "\n",
    "print(f'Confidence intervals = [{z - (z_criterion * z_sd)}, {z + (z_criterion * z_sd)}]')"
   ]
  },
  {
   "cell_type": "markdown",
   "metadata": {
    "id": "sU0UjR6uVMl2"
   },
   "source": [
    "##### 4\\. Should the value of $r_{X,Y}$ be considered significant at the *p*<0.05 level, given a two-tailed test (i.e., we reject if the test statistic is too large on either tail of the null distribution) for $H_0: r_{X,Y}=0$?"
   ]
  },
  {
   "cell_type": "code",
   "execution_count": 36,
   "metadata": {},
   "outputs": [
    {
     "data": {
      "text/plain": [
       "Ttest_indResult(statistic=20.458801724653977, pvalue=8.289691421889273e-16)"
      ]
     },
     "execution_count": 36,
     "metadata": {},
     "output_type": "execute_result"
    }
   ],
   "source": [
    "st.ttest_ind(wing_length,tail_length)"
   ]
  },
  {
   "cell_type": "markdown",
   "metadata": {},
   "source": [
    "Yes, we should reject the null hypothesis that r = 0 (p-value < 0.001)."
   ]
  },
  {
   "cell_type": "markdown",
   "metadata": {
    "id": "mywqPzz3Vg0I"
   },
   "source": [
    "##### 5\\. Yale does the exact same study and finds that his correlation value is 0.75. Is this the same as yours? That is, evaluate $𝐻_0: r=0.75$."
   ]
  },
  {
   "cell_type": "code",
   "execution_count": 49,
   "metadata": {},
   "outputs": [
    {
     "data": {
      "text/plain": [
       "-1.584325239995836"
      ]
     },
     "execution_count": 49,
     "metadata": {},
     "output_type": "execute_result"
    }
   ],
   "source": [
    "r_2 = 0.75\n",
    "zrs = 0.5 * np.log((1 + r_2) / (1 - r_2))\n",
    "\n",
    "lambda_val = z - zrs / z_sd\n",
    "lambda_val"
   ]
  },
  {
   "cell_type": "markdown",
   "metadata": {},
   "source": [
    "Not sure how to determine statistical significance from here."
   ]
  },
  {
   "cell_type": "markdown",
   "metadata": {
    "id": "qYW4bBQ7Vxa-"
   },
   "source": [
    "##### 6\\. Finally, calculate the statistical power and sample size needed to reject $H_0:r=0\\:when\\:r\\ge 0.5$."
   ]
  },
  {
   "cell_type": "code",
   "execution_count": 61,
   "metadata": {},
   "outputs": [
    {
     "name": "stderr",
     "output_type": "stream",
     "text": [
      "/Users/joelleba/opt/anaconda3/lib/python3.8/site-packages/statsmodels/stats/power.py:415: ConvergenceWarning: \n",
      "Failed to converge on a solution.\n",
      "\n",
      "  warnings.warn(convergence_doc, ConvergenceWarning)\n",
      "/Users/joelleba/opt/anaconda3/lib/python3.8/site-packages/statsmodels/stats/power.py:415: ConvergenceWarning: \n",
      "Failed to converge on a solution.\n",
      "\n",
      "  warnings.warn(convergence_doc, ConvergenceWarning)\n",
      "/Users/joelleba/opt/anaconda3/lib/python3.8/site-packages/statsmodels/stats/power.py:415: ConvergenceWarning: \n",
      "Failed to converge on a solution.\n",
      "\n",
      "  warnings.warn(convergence_doc, ConvergenceWarning)\n",
      "/Users/joelleba/opt/anaconda3/lib/python3.8/site-packages/statsmodels/stats/power.py:415: ConvergenceWarning: \n",
      "Failed to converge on a solution.\n",
      "\n",
      "  warnings.warn(convergence_doc, ConvergenceWarning)\n"
     ]
    },
    {
     "data": {
      "image/png": "[encoded data removed]",
      "text/plain": [
       "<Figure size 432x288 with 1 Axes>"
      ]
     },
     "metadata": {
      "needs_background": "light"
     },
     "output_type": "display_data"
    }
   ],
   "source": [
    "# define parameters\n",
    "trials_per_experiment  = 100\n",
    "num_experiments = 1000\n",
    "power = 0.8\n",
    "\n",
    "# compute null Gaussian distributions\n",
    "null_tail_length = np.random.normal(7.5, 1, (trials_per_experiment, num_experiments)) \n",
    "null_wing_length = np.random.normal(10, 1, (trials_per_experiment, num_experiments)) \n",
    "\n",
    "\n",
    "# compute correlation coefficients between these null distributions (i.e., these will not be very correlated)\n",
    "correlations = np.zeros(num_experiments)\n",
    "for correlation in np.arange(num_experiments):\n",
    "    correlations[correlation], _ = st.spearmanr(null_tail_length[:,correlation], null_wing_length[:,correlation])\n",
    "\n",
    "# generate some effect sizes\n",
    "effect_sizes = np.arange(0.5, 1, 0.1)/np.std(correlations)\n",
    "\n",
    "# Compute ns, using tt_ind_solve_power \n",
    "#  https://www.statsmodels.org/stable/stats.html#power-and-sample-size-calculations\n",
    "required_n = np.zeros(np.size(effect_sizes))\n",
    "for idx, val in enumerate(effect_sizes):\n",
    "    obj = TTestIndPower()\n",
    "    required_n[idx] = obj.solve_power(effect_size = val, alpha=0.05, power=power)\n",
    "\n",
    "# plot required n (number of correlations within a session) needed for 80% power as a depending on the effect size\n",
    "plt.plot(effect_sizes, required_n, 'ko-')\n",
    "plt.xlabel('Effect size')\n",
    "plt.ylabel('n for 80% power')\n",
    "plt.show()"
   ]
  },
  {
   "cell_type": "markdown",
   "metadata": {},
   "source": [
    "This doesn't seem right..."
   ]
  },
  {
   "cell_type": "markdown",
   "metadata": {
    "id": "UqoNXyuxP-go"
   },
   "source": [
    "# Additional Resources\n"
   ]
  },
  {
   "cell_type": "markdown",
   "metadata": {
    "id": "clnBO4FU28El"
   },
   "source": [
    "- Differences between correlation and regression are discussed [here](https://www.bmj.com/about-bmj/resources-readers/publications/statistics-square-one/11-correlation-and-regression) and [here](http://www.biostathandbook.com/linearregression.html).\n",
    "\n",
    "- A reference on [how to choose the appropriate measure of association](https://journals.sagepub.com/doi/pdf/10.1177/8756479308317006) (Khamis 2008)."
   ]
  },
  {
   "cell_type": "markdown",
   "metadata": {
    "id": "tteEm2Qlgbb3"
   },
   "source": [
    "# Credits\n",
    "\n",
    "Copyright 2021 by Joshua I. Gold, University of Pennsylvania"
   ]
  }
 ],
 "metadata": {
  "colab": {
   "collapsed_sections": [
    "IyCyVIIDH0rb",
    "xDpz-ktIJGhf",
    "ELEb_vqYQGdK",
    "NUeNn8deHBch",
    "nvmWeSSHSF95",
    "zIfgeegzTlJl",
    "v4ihoOv0TzTk",
    "XqoZSFdZU5zg",
    "sU0UjR6uVMl2",
    "mywqPzz3Vg0I",
    "qYW4bBQ7Vxa-"
   ],
   "name": "Parametric Correlation Coefficient",
   "provenance": [
    {
     "file_id": "1dvkIh9KgmzwwJ7phFBxkHmS3nFTKN_yo",
     "timestamp": 1626368223618
    },
    {
     "file_id": "1AmfvDhhfviRQFvONiUVUba_6hof8RDp6",
     "timestamp": 1626367834690
    },
    {
     "file_id": "1wTKRgKK5eDUya7FZRHeu1RaoY7kuhiGi",
     "timestamp": 1626364730636
    },
    {
     "file_id": "1rdJMusMZDTaM9OGsyt27tCVkSasmRj2O",
     "timestamp": 1626357708093
    },
    {
     "file_id": "1HW0L_d5Wpod3jbnY3iG7mLhMG6yWHvF2",
     "timestamp": 1626350171621
    },
    {
     "file_id": "1-KxH3FCq5rDyyO33HXxewIv-kKldkINi",
     "timestamp": 1626290714843
    },
    {
     "file_id": "14S2ca44h8TKC1hFXjk5ktwBYpGU6R5S-",
     "timestamp": 1624411796822
    }
   ]
  },
  "kernelspec": {
   "display_name": "Python 3",
   "language": "python",
   "name": "python3"
  },
  "language_info": {
   "codemirror_mode": {
    "name": "ipython",
    "version": 3
   },
   "file_extension": ".py",
   "mimetype": "text/x-python",
   "name": "python",
   "nbconvert_exporter": "python",
   "pygments_lexer": "ipython3",
   "version": "3.8.8"
  }
 },
 "nbformat": 4,
 "nbformat_minor": 4
}
