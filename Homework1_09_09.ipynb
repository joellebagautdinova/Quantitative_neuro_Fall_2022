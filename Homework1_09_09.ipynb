{
 "cells": [
  {
   "cell_type": "markdown",
   "id": "93ff15af-b571-41b7-b68e-2d2b4e2db841",
   "metadata": {},
   "source": [
    "# Homework 1 - 09/09/2022\n",
    "\n",
    "#### Joëlle Bagautdinova\n",
    "\n",
    "### Exercise #1: If someone gets a positive test, is it \"statistically significant\" at the p<0.05 level? Why or why not?"
   ]
  },
  {
   "cell_type": "code",
   "execution_count": 1,
   "id": "535bd955-1241-463d-bab1-d967d9581759",
   "metadata": {
    "tags": []
   },
   "outputs": [],
   "source": [
    "import scipy.stats as st\n",
    "import numpy as np"
   ]
  },
  {
   "cell_type": "markdown",
   "id": "91efc23b-1e8d-4a66-802d-9f99787f6a52",
   "metadata": {},
   "source": [
    "Yes, a positive test will be \"statistically significant\" at the p < 0.05 level in the case of a single positive test, as then only the false positive rate (5%) matters."
   ]
  },
  {
   "cell_type": "markdown",
   "id": "2603cf8e-1755-41cf-9e48-70cea4078f64",
   "metadata": {},
   "source": [
    "### Exercise #2: What is the probability that if someone gets a positive test, that person is infected?\n",
    "\n",
    "Assume a range of priors (infection rates) from 0 to 1 in steps of 0.1"
   ]
  },
  {
   "cell_type": "markdown",
   "id": "4bcce8d8-e178-4011-9c57-fcfa727c7b01",
   "metadata": {},
   "source": [
    "This question involves the posterior probability, i.e. the probability of the hypothesis being true given the data. \n",
    "\n",
    "So: P(infected | positive test) = total infected AND positive / total positive\n",
    "\n"
   ]
  },
  {
   "cell_type": "code",
   "execution_count": 23,
   "id": "72113678-f278-4b36-98d5-100d9782ecd7",
   "metadata": {},
   "outputs": [
    {
     "name": "stdout",
     "output_type": "stream",
     "text": [
      "With an infection rate of 0.0, the proportion of infected people given a positive test is 0.0 and the posterior probability is 0.0.\n",
      "With an infection rate of 0.1, the proportion of infected people given a positive test is 0.75 and the posterior probability is 0.699.\n",
      "With an infection rate of 0.2, the proportion of infected people given a positive test is 0.826 and the posterior probability is 0.736.\n",
      "With an infection rate of 0.3, the proportion of infected people given a positive test is 0.895 and the posterior probability is 0.877.\n",
      "With an infection rate of 0.4, the proportion of infected people given a positive test is 0.931 and the posterior probability is 0.846.\n",
      "With an infection rate of 0.5, the proportion of infected people given a positive test is 0.951 and the posterior probability is 0.926.\n",
      "With an infection rate of 0.6, the proportion of infected people given a positive test is 0.971 and the posterior probability is 0.915.\n",
      "With an infection rate of 0.7, the proportion of infected people given a positive test is 0.986 and the posterior probability is 0.924.\n",
      "With an infection rate of 0.8, the proportion of infected people given a positive test is 0.993 and the posterior probability is 0.948.\n",
      "With an infection rate of 0.9, the proportion of infected people given a positive test is 0.991 and the posterior probability is 0.949.\n",
      "With an infection rate of 1.0, the proportion of infected people given a positive test is 1.0 and the posterior probability is 0.95.\n"
     ]
    }
   ],
   "source": [
    "# proportions to loop over\n",
    "props_infected = np.arange(0.0, 1.1, 0.1)\n",
    "\n",
    "# loop to compute probability of positive test for each infection rate\n",
    "for prop in props_infected:\n",
    "    \n",
    "    # use binomial distribution to get number of infected people in sample of 1000 with a given infection rate\n",
    "    infected = st.binom.rvs(1, prop, size = 1000)\n",
    "    n_infected = infected.sum()\n",
    "    positive = np.copy(infected) # array of people with a positive test (= same as infected people as there are no false negatives)\n",
    "    \n",
    "    # now add some \"false positive people\" (people who test positive but actually don't have HIV - this rate is set at 0.05)\n",
    "    positive[infected==0] = st.binom.rvs(1, 0.05, size = 1000 - n_infected)\n",
    "    \n",
    "    # next, we can compute the probability of someone positive actually being infected\n",
    "    prob_infected_given_positive = (np.logical_and(infected == 1, positive == 1).sum())/positive.sum()\n",
    "    \n",
    "    # finally, we can compute the posterior probability of the hypothesis given the data:\n",
    "    # p(hypothesis | data) = (p(data | hypothesis) * p(hypothesis)) / p(data)\n",
    "    prob_data_given_hyp = 1 - 0.05\n",
    "    prob_hyp = prop\n",
    "    prob_data = positive.sum()/positive.size   \n",
    "    prob_hyp_given_data = (prob_data_given_hyp * prob_hyp) / prob_data\n",
    "    \n",
    "    # print results\n",
    "    print(f'With an infection rate of {round(prop, 1)}, the proportion of infected people given a positive test is {round(prob_infected_given_positive, 3)} and the posterior probability is {round(prob_hyp_given_data, 3)}.')\n",
    "    \n",
    "    "
   ]
  },
  {
   "cell_type": "markdown",
   "id": "c2fa28e7-a278-4afa-b0fc-e2c8e86969ff",
   "metadata": {},
   "source": [
    "Thus, the posterior probability of the hypothesis being true given the data varies depending on the infection rate (or prior). "
   ]
  }
 ],
 "metadata": {
  "kernelspec": {
   "display_name": "Python 3",
   "language": "python",
   "name": "python3"
  },
  "language_info": {
   "codemirror_mode": {
    "name": "ipython",
    "version": 3
   },
   "file_extension": ".py",
   "mimetype": "text/x-python",
   "name": "python",
   "nbconvert_exporter": "python",
   "pygments_lexer": "ipython3",
   "version": "3.8.8"
  }
 },
 "nbformat": 4,
 "nbformat_minor": 5
}
